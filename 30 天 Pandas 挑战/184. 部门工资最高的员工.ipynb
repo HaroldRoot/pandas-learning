{
 "cells": [
  {
   "cell_type": "code",
   "execution_count": 1,
   "id": "f6c0d47c-619b-415b-aa0c-14aab8002aa4",
   "metadata": {
    "tags": []
   },
   "outputs": [],
   "source": [
    "import pandas as pd\n",
    "\n",
    "data = [[1, 'Joe', 70000, 1], [2, 'Jim', 90000, 1], [3, 'Henry', 80000, 2], [4, 'Sam', 60000, 2], [5, 'Max', 90000, 1]]\n",
    "employee = pd.DataFrame(data, columns=['id', 'name', 'salary', 'departmentId']).astype({'id':'Int64', 'name':'object', 'salary':'Int64', 'departmentId':'Int64'})\n",
    "data = [[1, 'IT'], [2, 'Sales']]\n",
    "department = pd.DataFrame(data, columns=['id', 'name']).astype({'id':'Int64', 'name':'object'})"
   ]
  },
  {
   "cell_type": "code",
   "execution_count": 2,
   "id": "df8e9a05-db89-4a35-97c0-916caeb6374f",
   "metadata": {
    "tags": []
   },
   "outputs": [
    {
     "data": {
      "text/html": [
       "<div>\n",
       "<style scoped>\n",
       "    .dataframe tbody tr th:only-of-type {\n",
       "        vertical-align: middle;\n",
       "    }\n",
       "\n",
       "    .dataframe tbody tr th {\n",
       "        vertical-align: top;\n",
       "    }\n",
       "\n",
       "    .dataframe thead th {\n",
       "        text-align: right;\n",
       "    }\n",
       "</style>\n",
       "<table border=\"1\" class=\"dataframe\">\n",
       "  <thead>\n",
       "    <tr style=\"text-align: right;\">\n",
       "      <th></th>\n",
       "      <th>id</th>\n",
       "      <th>name</th>\n",
       "      <th>salary</th>\n",
       "      <th>departmentId</th>\n",
       "    </tr>\n",
       "  </thead>\n",
       "  <tbody>\n",
       "    <tr>\n",
       "      <th>0</th>\n",
       "      <td>1</td>\n",
       "      <td>Joe</td>\n",
       "      <td>70000</td>\n",
       "      <td>1</td>\n",
       "    </tr>\n",
       "    <tr>\n",
       "      <th>1</th>\n",
       "      <td>2</td>\n",
       "      <td>Jim</td>\n",
       "      <td>90000</td>\n",
       "      <td>1</td>\n",
       "    </tr>\n",
       "    <tr>\n",
       "      <th>2</th>\n",
       "      <td>3</td>\n",
       "      <td>Henry</td>\n",
       "      <td>80000</td>\n",
       "      <td>2</td>\n",
       "    </tr>\n",
       "    <tr>\n",
       "      <th>3</th>\n",
       "      <td>4</td>\n",
       "      <td>Sam</td>\n",
       "      <td>60000</td>\n",
       "      <td>2</td>\n",
       "    </tr>\n",
       "    <tr>\n",
       "      <th>4</th>\n",
       "      <td>5</td>\n",
       "      <td>Max</td>\n",
       "      <td>90000</td>\n",
       "      <td>1</td>\n",
       "    </tr>\n",
       "  </tbody>\n",
       "</table>\n",
       "</div>"
      ],
      "text/plain": [
       "   id   name  salary  departmentId\n",
       "0   1    Joe   70000             1\n",
       "1   2    Jim   90000             1\n",
       "2   3  Henry   80000             2\n",
       "3   4    Sam   60000             2\n",
       "4   5    Max   90000             1"
      ]
     },
     "execution_count": 2,
     "metadata": {},
     "output_type": "execute_result"
    }
   ],
   "source": [
    "employee"
   ]
  },
  {
   "cell_type": "code",
   "execution_count": 3,
   "id": "da8769b7-7769-4fe2-92de-2820d9598aa5",
   "metadata": {
    "tags": []
   },
   "outputs": [
    {
     "data": {
      "text/html": [
       "<div>\n",
       "<style scoped>\n",
       "    .dataframe tbody tr th:only-of-type {\n",
       "        vertical-align: middle;\n",
       "    }\n",
       "\n",
       "    .dataframe tbody tr th {\n",
       "        vertical-align: top;\n",
       "    }\n",
       "\n",
       "    .dataframe thead th {\n",
       "        text-align: right;\n",
       "    }\n",
       "</style>\n",
       "<table border=\"1\" class=\"dataframe\">\n",
       "  <thead>\n",
       "    <tr style=\"text-align: right;\">\n",
       "      <th></th>\n",
       "      <th>id</th>\n",
       "      <th>name</th>\n",
       "    </tr>\n",
       "  </thead>\n",
       "  <tbody>\n",
       "    <tr>\n",
       "      <th>0</th>\n",
       "      <td>1</td>\n",
       "      <td>IT</td>\n",
       "    </tr>\n",
       "    <tr>\n",
       "      <th>1</th>\n",
       "      <td>2</td>\n",
       "      <td>Sales</td>\n",
       "    </tr>\n",
       "  </tbody>\n",
       "</table>\n",
       "</div>"
      ],
      "text/plain": [
       "   id   name\n",
       "0   1     IT\n",
       "1   2  Sales"
      ]
     },
     "execution_count": 3,
     "metadata": {},
     "output_type": "execute_result"
    }
   ],
   "source": [
    "department"
   ]
  },
  {
   "cell_type": "markdown",
   "id": "b20b5c57-a181-4b35-8df5-d2f6d3f20e13",
   "metadata": {},
   "source": [
    "查找出每个部门中薪资最高的员工。\n",
    "按 **任意顺序** 返回结果表。"
   ]
  },
  {
   "cell_type": "code",
   "execution_count": 4,
   "id": "92fec669-06b5-4c70-9572-2fb450349c5e",
   "metadata": {
    "tags": []
   },
   "outputs": [
    {
     "data": {
      "text/html": [
       "<div>\n",
       "<style scoped>\n",
       "    .dataframe tbody tr th:only-of-type {\n",
       "        vertical-align: middle;\n",
       "    }\n",
       "\n",
       "    .dataframe tbody tr th {\n",
       "        vertical-align: top;\n",
       "    }\n",
       "\n",
       "    .dataframe thead th {\n",
       "        text-align: right;\n",
       "    }\n",
       "</style>\n",
       "<table border=\"1\" class=\"dataframe\">\n",
       "  <thead>\n",
       "    <tr style=\"text-align: right;\">\n",
       "      <th></th>\n",
       "      <th>id_x</th>\n",
       "      <th>name_x</th>\n",
       "      <th>salary</th>\n",
       "      <th>departmentId</th>\n",
       "      <th>id_y</th>\n",
       "      <th>name_y</th>\n",
       "    </tr>\n",
       "  </thead>\n",
       "  <tbody>\n",
       "    <tr>\n",
       "      <th>0</th>\n",
       "      <td>1</td>\n",
       "      <td>Joe</td>\n",
       "      <td>70000</td>\n",
       "      <td>1</td>\n",
       "      <td>1</td>\n",
       "      <td>IT</td>\n",
       "    </tr>\n",
       "    <tr>\n",
       "      <th>1</th>\n",
       "      <td>2</td>\n",
       "      <td>Jim</td>\n",
       "      <td>90000</td>\n",
       "      <td>1</td>\n",
       "      <td>1</td>\n",
       "      <td>IT</td>\n",
       "    </tr>\n",
       "    <tr>\n",
       "      <th>2</th>\n",
       "      <td>3</td>\n",
       "      <td>Henry</td>\n",
       "      <td>80000</td>\n",
       "      <td>2</td>\n",
       "      <td>2</td>\n",
       "      <td>Sales</td>\n",
       "    </tr>\n",
       "    <tr>\n",
       "      <th>3</th>\n",
       "      <td>4</td>\n",
       "      <td>Sam</td>\n",
       "      <td>60000</td>\n",
       "      <td>2</td>\n",
       "      <td>2</td>\n",
       "      <td>Sales</td>\n",
       "    </tr>\n",
       "    <tr>\n",
       "      <th>4</th>\n",
       "      <td>5</td>\n",
       "      <td>Max</td>\n",
       "      <td>90000</td>\n",
       "      <td>1</td>\n",
       "      <td>1</td>\n",
       "      <td>IT</td>\n",
       "    </tr>\n",
       "  </tbody>\n",
       "</table>\n",
       "</div>"
      ],
      "text/plain": [
       "   id_x name_x  salary  departmentId  id_y name_y\n",
       "0     1    Joe   70000             1     1     IT\n",
       "1     2    Jim   90000             1     1     IT\n",
       "2     3  Henry   80000             2     2  Sales\n",
       "3     4    Sam   60000             2     2  Sales\n",
       "4     5    Max   90000             1     1     IT"
      ]
     },
     "execution_count": 4,
     "metadata": {},
     "output_type": "execute_result"
    }
   ],
   "source": [
    "df = employee.merge(department, left_on='departmentId', right_on='id', how='left')\n",
    "df"
   ]
  },
  {
   "cell_type": "code",
   "execution_count": 5,
   "id": "e4efbdcb-62a4-40e0-b46b-6762d9fc65fd",
   "metadata": {
    "tags": []
   },
   "outputs": [
    {
     "data": {
      "text/html": [
       "<div>\n",
       "<style scoped>\n",
       "    .dataframe tbody tr th:only-of-type {\n",
       "        vertical-align: middle;\n",
       "    }\n",
       "\n",
       "    .dataframe tbody tr th {\n",
       "        vertical-align: top;\n",
       "    }\n",
       "\n",
       "    .dataframe thead th {\n",
       "        text-align: right;\n",
       "    }\n",
       "</style>\n",
       "<table border=\"1\" class=\"dataframe\">\n",
       "  <thead>\n",
       "    <tr style=\"text-align: right;\">\n",
       "      <th></th>\n",
       "      <th>id_x</th>\n",
       "      <th>Employee</th>\n",
       "      <th>Salary</th>\n",
       "      <th>departmentId</th>\n",
       "      <th>id_y</th>\n",
       "      <th>Department</th>\n",
       "    </tr>\n",
       "  </thead>\n",
       "  <tbody>\n",
       "    <tr>\n",
       "      <th>0</th>\n",
       "      <td>1</td>\n",
       "      <td>Joe</td>\n",
       "      <td>70000</td>\n",
       "      <td>1</td>\n",
       "      <td>1</td>\n",
       "      <td>IT</td>\n",
       "    </tr>\n",
       "    <tr>\n",
       "      <th>1</th>\n",
       "      <td>2</td>\n",
       "      <td>Jim</td>\n",
       "      <td>90000</td>\n",
       "      <td>1</td>\n",
       "      <td>1</td>\n",
       "      <td>IT</td>\n",
       "    </tr>\n",
       "    <tr>\n",
       "      <th>2</th>\n",
       "      <td>3</td>\n",
       "      <td>Henry</td>\n",
       "      <td>80000</td>\n",
       "      <td>2</td>\n",
       "      <td>2</td>\n",
       "      <td>Sales</td>\n",
       "    </tr>\n",
       "    <tr>\n",
       "      <th>3</th>\n",
       "      <td>4</td>\n",
       "      <td>Sam</td>\n",
       "      <td>60000</td>\n",
       "      <td>2</td>\n",
       "      <td>2</td>\n",
       "      <td>Sales</td>\n",
       "    </tr>\n",
       "    <tr>\n",
       "      <th>4</th>\n",
       "      <td>5</td>\n",
       "      <td>Max</td>\n",
       "      <td>90000</td>\n",
       "      <td>1</td>\n",
       "      <td>1</td>\n",
       "      <td>IT</td>\n",
       "    </tr>\n",
       "  </tbody>\n",
       "</table>\n",
       "</div>"
      ],
      "text/plain": [
       "   id_x Employee  Salary  departmentId  id_y Department\n",
       "0     1      Joe   70000             1     1         IT\n",
       "1     2      Jim   90000             1     1         IT\n",
       "2     3    Henry   80000             2     2      Sales\n",
       "3     4      Sam   60000             2     2      Sales\n",
       "4     5      Max   90000             1     1         IT"
      ]
     },
     "execution_count": 5,
     "metadata": {},
     "output_type": "execute_result"
    }
   ],
   "source": [
    "df.rename(columns={'name_x': 'Employee', 'name_y': 'Department', 'salary': 'Salary'}, inplace=True)\n",
    "df"
   ]
  },
  {
   "cell_type": "code",
   "execution_count": 6,
   "id": "4f5fabbc-d2e2-4c73-ab9f-3518fb1e41c8",
   "metadata": {
    "tags": []
   },
   "outputs": [
    {
     "name": "stdout",
     "output_type": "stream",
     "text": [
      "IT\n",
      "   id_x Employee  Salary  departmentId  id_y Department\n",
      "0     1      Joe   70000             1     1         IT\n",
      "1     2      Jim   90000             1     1         IT\n",
      "4     5      Max   90000             1     1         IT\n",
      "Sales\n",
      "   id_x Employee  Salary  departmentId  id_y Department\n",
      "2     3    Henry   80000             2     2      Sales\n",
      "3     4      Sam   60000             2     2      Sales\n"
     ]
    }
   ],
   "source": [
    "for k,v in df.groupby('Department'):\n",
    "    print(k)\n",
    "    print(v)"
   ]
  },
  {
   "cell_type": "code",
   "execution_count": 7,
   "id": "312dd396-194e-42a2-b322-3edbe39e93b4",
   "metadata": {
    "tags": []
   },
   "outputs": [
    {
     "name": "stdout",
     "output_type": "stream",
     "text": [
      "IT\n",
      "0    70000\n",
      "1    90000\n",
      "4    90000\n",
      "Name: Salary, dtype: Int64\n",
      "Sales\n",
      "2    80000\n",
      "3    60000\n",
      "Name: Salary, dtype: Int64\n"
     ]
    }
   ],
   "source": [
    "for k,v in df.groupby('Department')['Salary']:\n",
    "    print(k)\n",
    "    print(v)"
   ]
  },
  {
   "cell_type": "code",
   "execution_count": 8,
   "id": "f9812b90-c506-4bc0-8600-f405c8e0827c",
   "metadata": {
    "tags": []
   },
   "outputs": [
    {
     "data": {
      "text/plain": [
       "0    90000\n",
       "1    90000\n",
       "2    80000\n",
       "3    80000\n",
       "4    90000\n",
       "Name: Salary, dtype: Int64"
      ]
     },
     "execution_count": 8,
     "metadata": {},
     "output_type": "execute_result"
    }
   ],
   "source": [
    "df.groupby('Department')['Salary'].transform('max')"
   ]
  },
  {
   "cell_type": "markdown",
   "id": "71152db5-cff6-445d-a6f9-a8cd3e585c59",
   "metadata": {},
   "source": [
    "`max_salary = df.groupby('Department')['Salary'].transform('max')` 的作用是找出每个部门的最高工资。\n",
    "\n",
    "首先，`df.groupby('Department')` 会将数据按照 'Department' 列进行分组，也就是将相同部门的员工数据聚合在一起。\n",
    "\n",
    "然后，`['Salary'].transform('max')` 会对每个部门的 'Salary' 列应用 'max' 函数，也就是找出每个部门的最高工资。\n",
    "\n",
    "最后，`max_salary` 是一个新的 DataFrame，其行数与原始的 `df` DataFrame 相同，但每行的值都是对应部门的最高工资。这意味着，如果一个员工的工资等于他们所在部门的最高工资，那么他们在 `max_salary` DataFrame 中的值将等于他们的工资。"
   ]
  },
  {
   "cell_type": "code",
   "execution_count": 9,
   "id": "41583015-24c1-44eb-bc7a-1440072c80a4",
   "metadata": {
    "tags": []
   },
   "outputs": [
    {
     "data": {
      "text/plain": [
       "0    90000\n",
       "1    90000\n",
       "2    80000\n",
       "3    80000\n",
       "4    90000\n",
       "Name: Salary, dtype: Int64"
      ]
     },
     "execution_count": 9,
     "metadata": {},
     "output_type": "execute_result"
    }
   ],
   "source": [
    "max_salary = df.groupby('Department')['Salary'].transform('max')\n",
    "max_salary"
   ]
  },
  {
   "cell_type": "code",
   "execution_count": 10,
   "id": "0dbd8e76-69b6-4a1e-a00a-36560655dab1",
   "metadata": {
    "tags": []
   },
   "outputs": [
    {
     "data": {
      "text/html": [
       "<div>\n",
       "<style scoped>\n",
       "    .dataframe tbody tr th:only-of-type {\n",
       "        vertical-align: middle;\n",
       "    }\n",
       "\n",
       "    .dataframe tbody tr th {\n",
       "        vertical-align: top;\n",
       "    }\n",
       "\n",
       "    .dataframe thead th {\n",
       "        text-align: right;\n",
       "    }\n",
       "</style>\n",
       "<table border=\"1\" class=\"dataframe\">\n",
       "  <thead>\n",
       "    <tr style=\"text-align: right;\">\n",
       "      <th></th>\n",
       "      <th>id_x</th>\n",
       "      <th>Employee</th>\n",
       "      <th>Salary</th>\n",
       "      <th>departmentId</th>\n",
       "      <th>id_y</th>\n",
       "      <th>Department</th>\n",
       "    </tr>\n",
       "  </thead>\n",
       "  <tbody>\n",
       "    <tr>\n",
       "      <th>1</th>\n",
       "      <td>2</td>\n",
       "      <td>Jim</td>\n",
       "      <td>90000</td>\n",
       "      <td>1</td>\n",
       "      <td>1</td>\n",
       "      <td>IT</td>\n",
       "    </tr>\n",
       "    <tr>\n",
       "      <th>2</th>\n",
       "      <td>3</td>\n",
       "      <td>Henry</td>\n",
       "      <td>80000</td>\n",
       "      <td>2</td>\n",
       "      <td>2</td>\n",
       "      <td>Sales</td>\n",
       "    </tr>\n",
       "    <tr>\n",
       "      <th>4</th>\n",
       "      <td>5</td>\n",
       "      <td>Max</td>\n",
       "      <td>90000</td>\n",
       "      <td>1</td>\n",
       "      <td>1</td>\n",
       "      <td>IT</td>\n",
       "    </tr>\n",
       "  </tbody>\n",
       "</table>\n",
       "</div>"
      ],
      "text/plain": [
       "   id_x Employee  Salary  departmentId  id_y Department\n",
       "1     2      Jim   90000             1     1         IT\n",
       "2     3    Henry   80000             2     2      Sales\n",
       "4     5      Max   90000             1     1         IT"
      ]
     },
     "execution_count": 10,
     "metadata": {},
     "output_type": "execute_result"
    }
   ],
   "source": [
    "df = df[df['Salary'] == max_salary]\n",
    "df"
   ]
  },
  {
   "cell_type": "code",
   "execution_count": 11,
   "id": "ab7ba3e9-ce38-47ec-b1b5-1e22a3e13268",
   "metadata": {
    "tags": []
   },
   "outputs": [
    {
     "data": {
      "text/html": [
       "<div>\n",
       "<style scoped>\n",
       "    .dataframe tbody tr th:only-of-type {\n",
       "        vertical-align: middle;\n",
       "    }\n",
       "\n",
       "    .dataframe tbody tr th {\n",
       "        vertical-align: top;\n",
       "    }\n",
       "\n",
       "    .dataframe thead th {\n",
       "        text-align: right;\n",
       "    }\n",
       "</style>\n",
       "<table border=\"1\" class=\"dataframe\">\n",
       "  <thead>\n",
       "    <tr style=\"text-align: right;\">\n",
       "      <th></th>\n",
       "      <th>Department</th>\n",
       "      <th>Employee</th>\n",
       "      <th>Salary</th>\n",
       "    </tr>\n",
       "  </thead>\n",
       "  <tbody>\n",
       "    <tr>\n",
       "      <th>1</th>\n",
       "      <td>IT</td>\n",
       "      <td>Jim</td>\n",
       "      <td>90000</td>\n",
       "    </tr>\n",
       "    <tr>\n",
       "      <th>2</th>\n",
       "      <td>Sales</td>\n",
       "      <td>Henry</td>\n",
       "      <td>80000</td>\n",
       "    </tr>\n",
       "    <tr>\n",
       "      <th>4</th>\n",
       "      <td>IT</td>\n",
       "      <td>Max</td>\n",
       "      <td>90000</td>\n",
       "    </tr>\n",
       "  </tbody>\n",
       "</table>\n",
       "</div>"
      ],
      "text/plain": [
       "  Department Employee  Salary\n",
       "1         IT      Jim   90000\n",
       "2      Sales    Henry   80000\n",
       "4         IT      Max   90000"
      ]
     },
     "execution_count": 11,
     "metadata": {},
     "output_type": "execute_result"
    }
   ],
   "source": [
    "df[['Department', 'Employee', 'Salary']]"
   ]
  },
  {
   "cell_type": "code",
   "execution_count": null,
   "id": "93a03a64-811e-4e9e-ba5b-a6482daedae4",
   "metadata": {},
   "outputs": [],
   "source": []
  }
 ],
 "metadata": {
  "kernelspec": {
   "display_name": "Python 3 (ipykernel)",
   "language": "python",
   "name": "python3"
  },
  "language_info": {
   "codemirror_mode": {
    "name": "ipython",
    "version": 3
   },
   "file_extension": ".py",
   "mimetype": "text/x-python",
   "name": "python",
   "nbconvert_exporter": "python",
   "pygments_lexer": "ipython3",
   "version": "3.11.5"
  }
 },
 "nbformat": 4,
 "nbformat_minor": 5
}
